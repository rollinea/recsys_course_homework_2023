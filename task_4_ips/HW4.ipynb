{
 "nbformat": 4,
 "nbformat_minor": 0,
 "metadata": {
  "colab": {
   "provenance": [],
   "machine_shape": "hm"
  },
  "kernelspec": {
   "name": "python3",
   "display_name": "Python 3"
  },
  "language_info": {
   "name": "python"
  }
 },
 "cells": [
  {
   "cell_type": "markdown",
   "source": [
    "## Imports"
   ],
   "metadata": {
    "id": "UmkpL5LhKGSD"
   }
  },
  {
   "cell_type": "code",
   "source": [
    "import matplotlib.pyplot as plt\n",
    "import numpy as np\n",
    "import pandas as pd\n",
    "import pickle\n",
    "import gc\n",
    "import sys\n",
    "import warnings\n",
    "\n",
    "from sklearn.preprocessing import OneHotEncoder\n",
    "from scipy.sparse import hstack\n",
    "from sklearn.linear_model import LogisticRegression\n",
    "from sklearn.model_selection import GridSearchCV, TimeSeriesSplit\n",
    "from sklearn.metrics import roc_auc_score, log_loss\n",
    "from scipy.special import logit\n",
    "from scipy.stats import norm\n",
    "\n",
    "pd.set_option(\"display.float_format\", lambda x: \"%.3f\" % x)\n",
    "warnings.filterwarnings(\"ignore\")"
   ],
   "metadata": {
    "id": "vM-PevbRKApe"
   },
   "execution_count": 24,
   "outputs": []
  },
  {
   "cell_type": "code",
   "source": [
    "from google.colab import drive\n",
    "\n",
    "drive.mount(\"/content/drive/\")\n",
    "\n",
    "sys.path.append(\"/content/drive/My Drive/hse/recsys\")"
   ],
   "metadata": {
    "colab": {
     "base_uri": "https://localhost:8080/"
    },
    "id": "e1sxT1acKRi_",
    "outputId": "ff2d950b-474b-480a-e1ab-1b95d51366c4"
   },
   "execution_count": 6,
   "outputs": [
    {
     "output_type": "stream",
     "name": "stdout",
     "text": [
      "Drive already mounted at /content/drive/; to attempt to forcibly remount, call drive.mount(\"/content/drive/\", force_remount=True).\n"
     ]
    }
   ]
  },
  {
   "cell_type": "markdown",
   "source": [
    "## Functions"
   ],
   "metadata": {
    "id": "vPDckYlgKWJV"
   }
  },
  {
   "cell_type": "code",
   "source": [
    "def load_data(data_path: str) -> pd.DataFrame:\n",
    "    columns_to_use = [\n",
    "        \"date_time\",\n",
    "        \"oaid_hash\",\n",
    "        \"zone_id\",\n",
    "        \"banner_id\",\n",
    "        \"os_id\",\n",
    "        \"country_id\",\n",
    "        \"banner_id0\",\n",
    "        \"banner_id1\",\n",
    "        \"g0\",\n",
    "        \"g1\",\n",
    "        \"coeff_sum0\",\n",
    "        \"coeff_sum1\",\n",
    "        \"clicks\",\n",
    "    ]\n",
    "\n",
    "    data = pd.read_csv(data_path, usecols=columns_to_use, parse_dates=[\"date_time\"])\n",
    "    return data"
   ],
   "metadata": {
    "id": "k2V37GC-KS1X"
   },
   "execution_count": 7,
   "outputs": []
  },
  {
   "cell_type": "code",
   "source": [
    "def get_interactions(data: pd.DataFrame, interactions_list: list[str]) -> pd.DataFrame:\n",
    "    for col1, col2 in interactions_list:\n",
    "        data[f\"{col1};{col2}\"] = data[col1].astype(str) + \"_\" + data[col2].astype(str)\n",
    "    return data"
   ],
   "metadata": {
    "id": "Tc6C1mJeLn21"
   },
   "execution_count": 8,
   "outputs": []
  },
  {
   "cell_type": "code",
   "source": [
    "def group_categories(\n",
    "    data: pd.DataFrame, column_names: list[str], threshold: float\n",
    ") -> pd.DataFrame:\n",
    "    for column in column_names:\n",
    "        new_value = data[column].max() + 1000\n",
    "        categories_to_group = data[column].value_counts(normalize=True) < threshold\n",
    "        categories_to_group = categories_to_group[categories_to_group].index\n",
    "        data.loc[data[column].isin(categories_to_group), column] = new_value\n",
    "    return data"
   ],
   "metadata": {
    "id": "DsUdBfaHLsNp"
   },
   "execution_count": 9,
   "outputs": []
  },
  {
   "cell_type": "code",
   "source": [
    "def feature_engineering(data: pd.DataFrame) -> pd.DataFrame:\n",
    "    # Удаление выброса\n",
    "    data = data[data.date_time.dt.date != pd.Timestamp(\"2021-09-01\").date()]\n",
    "\n",
    "    # Добавление фичей: время суток и день недели\n",
    "    data[\"hour\"] = data.date_time.dt.hour\n",
    "    data[\"weekday\"] = data.date_time.dt.weekday\n",
    "\n",
    "    # Объединение редких категорий\n",
    "    data = group_categories(data, [\"zone_id\"], 0.001)\n",
    "    oaid_hash_vc = data.oaid_hash.value_counts()\n",
    "    oaid_hash_to_change = oaid_hash_vc[oaid_hash_vc <= 2].index\n",
    "    data.loc[data.oaid_hash.isin(oaid_hash_to_change), \"oaid_hash\"] = -100\n",
    "\n",
    "    return data"
   ],
   "metadata": {
    "id": "Hqith-VGLudJ"
   },
   "execution_count": 25,
   "outputs": []
  },
  {
   "cell_type": "code",
   "source": [
    "def create_dataset(data: pd.DataFrame, interactions: list[str]):\n",
    "    print(\"Dataset preparation...\\n\")\n",
    "\n",
    "    # Предобработка и добавление фичей\n",
    "    data = feature_engineering(data)\n",
    "\n",
    "    # Train / test split\n",
    "    ts = pd.Timestamp(\"2021-10-02 00:00:00\")\n",
    "    data.sort_values(by=\"date_time\", inplace=True)\n",
    "    train_mask, test_mask = data.date_time < ts, data.date_time >= ts\n",
    "    X_train, X_test = data[train_mask].copy(), data[test_mask].copy()\n",
    "\n",
    "    # Удалим строки в тесте, где есть nan\n",
    "    X_test = X_test.dropna()\n",
    "\n",
    "    # Оставим только те строки в тесте, для которых banner_id == banner_id0\n",
    "    X_test = X_test[X_test[\"banner_id\"] == X_test[\"banner_id0\"]]\n",
    "\n",
    "    y_train, y_test = X_train.clicks.to_numpy(), X_test.clicks.to_numpy()\n",
    "\n",
    "    # Нужно создать отдельный тестовый набор, где banner_id == banner_id1\n",
    "    X_test1 = X_test.copy()\n",
    "    X_test1[\"banner_id\"] = X_test1[\"banner_id1\"]\n",
    "\n",
    "    # Сохраним данные для подсчета ips\n",
    "    ips_data = X_test[[\"g0\", \"g1\", \"coeff_sum0\", \"coeff_sum1\"]].copy()\n",
    "\n",
    "    # Добавим интеракции в train, test, test1\n",
    "    X_train = get_interactions(X_train, interactions)\n",
    "    X_test = get_interactions(X_test, interactions)\n",
    "    X_test1 = get_interactions(X_test1, interactions)\n",
    "\n",
    "    # Удаляем лишние колонки перед one-hot-encoding\n",
    "    columns_to_drop = [\"clicks\", \"date_time\", \"g0\", \"g1\", \"coeff_sum0\", \"coeff_sum1\"]\n",
    "    X_train.drop(columns_to_drop, axis=1, inplace=True)\n",
    "    X_test.drop(columns_to_drop, axis=1, inplace=True)\n",
    "    X_test1.drop(columns_to_drop, axis=1, inplace=True)\n",
    "\n",
    "    print(f\"Train size: {X_train.shape[0]}\")\n",
    "    print(f\"Test_size: {X_test.shape[0]}\")\n",
    "\n",
    "    # One hot encoding\n",
    "    encoder = OneHotEncoder(handle_unknown=\"ignore\", sparse_output=True)\n",
    "    X_train = encoder.fit_transform(X_train)\n",
    "    X_test = encoder.transform(X_test)\n",
    "    X_test1 = encoder.transform(X_test1)\n",
    "\n",
    "    print(f\"Features number: {X_train.shape[1]}\")\n",
    "    print(\"\\nDataset is ready!\")\n",
    "\n",
    "    del data\n",
    "    gc.collect()\n",
    "\n",
    "    return (X_train, X_test, X_test1), (y_train, y_test, y_test), ips_data"
   ],
   "metadata": {
    "id": "qyXvd2UQLzmr"
   },
   "execution_count": 18,
   "outputs": []
  },
  {
   "cell_type": "markdown",
   "source": [
    "## Preparing dataset and model"
   ],
   "metadata": {
    "id": "jm76BQnHagFJ"
   }
  },
  {
   "cell_type": "code",
   "source": [
    "data_path = \"/content/drive/My Drive/hse/recsys/data/data.csv\"\n",
    "data = load_data(data_path)"
   ],
   "metadata": {
    "id": "mDTMPf-yac9w"
   },
   "execution_count": 27,
   "outputs": []
  },
  {
   "cell_type": "code",
   "source": [
    "data.head()"
   ],
   "metadata": {
    "colab": {
     "base_uri": "https://localhost:8080/",
     "height": 312
    },
    "id": "d4-b0NZ1ajnL",
    "outputId": "cb4ba2ef-e9bb-49c2-d1ed-5f52f56c3434"
   },
   "execution_count": 28,
   "outputs": [
    {
     "output_type": "execute_result",
     "data": {
      "text/plain": [
       "            date_time  zone_id  banner_id            oaid_hash  os_id  \\\n",
       "0 2021-09-27 00:01:30        0          0  5664530014561852622      0   \n",
       "1 2021-09-26 22:54:49        1          1  5186611064559013950      0   \n",
       "2 2021-09-26 23:57:20        2          2  2215519569292448030      0   \n",
       "3 2021-09-27 00:04:30        3          3  6262169206735077204      1   \n",
       "4 2021-09-27 00:06:21        4          4  4778985830203613115      1   \n",
       "\n",
       "   country_id  banner_id0    g0  coeff_sum0  banner_id1    g1  coeff_sum1  \\\n",
       "0           0        1240 0.035      -7.269           0 0.050      -5.370   \n",
       "1           1           1 0.054      -2.657         269 0.032      -4.449   \n",
       "2           0           2 0.014      -3.825          21 0.015      -3.939   \n",
       "3           1           3 0.015      -3.461          99 0.051      -3.418   \n",
       "4           0           4 0.051      -4.009    11464230 0.032      -2.829   \n",
       "\n",
       "   clicks  \n",
       "0       1  \n",
       "1       1  \n",
       "2       1  \n",
       "3       1  \n",
       "4       1  "
      ],
      "text/html": [
       "\n",
       "  <div id=\"df-6b297ff9-c209-4d05-8f29-d49a8a4fb328\" class=\"colab-df-container\">\n",
       "    <div>\n",
       "<style scoped>\n",
       "    .dataframe tbody tr th:only-of-type {\n",
       "        vertical-align: middle;\n",
       "    }\n",
       "\n",
       "    .dataframe tbody tr th {\n",
       "        vertical-align: top;\n",
       "    }\n",
       "\n",
       "    .dataframe thead th {\n",
       "        text-align: right;\n",
       "    }\n",
       "</style>\n",
       "<table border=\"1\" class=\"dataframe\">\n",
       "  <thead>\n",
       "    <tr style=\"text-align: right;\">\n",
       "      <th></th>\n",
       "      <th>date_time</th>\n",
       "      <th>zone_id</th>\n",
       "      <th>banner_id</th>\n",
       "      <th>oaid_hash</th>\n",
       "      <th>os_id</th>\n",
       "      <th>country_id</th>\n",
       "      <th>banner_id0</th>\n",
       "      <th>g0</th>\n",
       "      <th>coeff_sum0</th>\n",
       "      <th>banner_id1</th>\n",
       "      <th>g1</th>\n",
       "      <th>coeff_sum1</th>\n",
       "      <th>clicks</th>\n",
       "    </tr>\n",
       "  </thead>\n",
       "  <tbody>\n",
       "    <tr>\n",
       "      <th>0</th>\n",
       "      <td>2021-09-27 00:01:30</td>\n",
       "      <td>0</td>\n",
       "      <td>0</td>\n",
       "      <td>5664530014561852622</td>\n",
       "      <td>0</td>\n",
       "      <td>0</td>\n",
       "      <td>1240</td>\n",
       "      <td>0.035</td>\n",
       "      <td>-7.269</td>\n",
       "      <td>0</td>\n",
       "      <td>0.050</td>\n",
       "      <td>-5.370</td>\n",
       "      <td>1</td>\n",
       "    </tr>\n",
       "    <tr>\n",
       "      <th>1</th>\n",
       "      <td>2021-09-26 22:54:49</td>\n",
       "      <td>1</td>\n",
       "      <td>1</td>\n",
       "      <td>5186611064559013950</td>\n",
       "      <td>0</td>\n",
       "      <td>1</td>\n",
       "      <td>1</td>\n",
       "      <td>0.054</td>\n",
       "      <td>-2.657</td>\n",
       "      <td>269</td>\n",
       "      <td>0.032</td>\n",
       "      <td>-4.449</td>\n",
       "      <td>1</td>\n",
       "    </tr>\n",
       "    <tr>\n",
       "      <th>2</th>\n",
       "      <td>2021-09-26 23:57:20</td>\n",
       "      <td>2</td>\n",
       "      <td>2</td>\n",
       "      <td>2215519569292448030</td>\n",
       "      <td>0</td>\n",
       "      <td>0</td>\n",
       "      <td>2</td>\n",
       "      <td>0.014</td>\n",
       "      <td>-3.825</td>\n",
       "      <td>21</td>\n",
       "      <td>0.015</td>\n",
       "      <td>-3.939</td>\n",
       "      <td>1</td>\n",
       "    </tr>\n",
       "    <tr>\n",
       "      <th>3</th>\n",
       "      <td>2021-09-27 00:04:30</td>\n",
       "      <td>3</td>\n",
       "      <td>3</td>\n",
       "      <td>6262169206735077204</td>\n",
       "      <td>1</td>\n",
       "      <td>1</td>\n",
       "      <td>3</td>\n",
       "      <td>0.015</td>\n",
       "      <td>-3.461</td>\n",
       "      <td>99</td>\n",
       "      <td>0.051</td>\n",
       "      <td>-3.418</td>\n",
       "      <td>1</td>\n",
       "    </tr>\n",
       "    <tr>\n",
       "      <th>4</th>\n",
       "      <td>2021-09-27 00:06:21</td>\n",
       "      <td>4</td>\n",
       "      <td>4</td>\n",
       "      <td>4778985830203613115</td>\n",
       "      <td>1</td>\n",
       "      <td>0</td>\n",
       "      <td>4</td>\n",
       "      <td>0.051</td>\n",
       "      <td>-4.009</td>\n",
       "      <td>11464230</td>\n",
       "      <td>0.032</td>\n",
       "      <td>-2.829</td>\n",
       "      <td>1</td>\n",
       "    </tr>\n",
       "  </tbody>\n",
       "</table>\n",
       "</div>\n",
       "    <div class=\"colab-df-buttons\">\n",
       "\n",
       "  <div class=\"colab-df-container\">\n",
       "    <button class=\"colab-df-convert\" onclick=\"convertToInteractive('df-6b297ff9-c209-4d05-8f29-d49a8a4fb328')\"\n",
       "            title=\"Convert this dataframe to an interactive table.\"\n",
       "            style=\"display:none;\">\n",
       "\n",
       "  <svg xmlns=\"http://www.w3.org/2000/svg\" height=\"24px\" viewBox=\"0 -960 960 960\">\n",
       "    <path d=\"M120-120v-720h720v720H120Zm60-500h600v-160H180v160Zm220 220h160v-160H400v160Zm0 220h160v-160H400v160ZM180-400h160v-160H180v160Zm440 0h160v-160H620v160ZM180-180h160v-160H180v160Zm440 0h160v-160H620v160Z\"/>\n",
       "  </svg>\n",
       "    </button>\n",
       "\n",
       "  <style>\n",
       "    .colab-df-container {\n",
       "      display:flex;\n",
       "      gap: 12px;\n",
       "    }\n",
       "\n",
       "    .colab-df-convert {\n",
       "      background-color: #E8F0FE;\n",
       "      border: none;\n",
       "      border-radius: 50%;\n",
       "      cursor: pointer;\n",
       "      display: none;\n",
       "      fill: #1967D2;\n",
       "      height: 32px;\n",
       "      padding: 0 0 0 0;\n",
       "      width: 32px;\n",
       "    }\n",
       "\n",
       "    .colab-df-convert:hover {\n",
       "      background-color: #E2EBFA;\n",
       "      box-shadow: 0px 1px 2px rgba(60, 64, 67, 0.3), 0px 1px 3px 1px rgba(60, 64, 67, 0.15);\n",
       "      fill: #174EA6;\n",
       "    }\n",
       "\n",
       "    .colab-df-buttons div {\n",
       "      margin-bottom: 4px;\n",
       "    }\n",
       "\n",
       "    [theme=dark] .colab-df-convert {\n",
       "      background-color: #3B4455;\n",
       "      fill: #D2E3FC;\n",
       "    }\n",
       "\n",
       "    [theme=dark] .colab-df-convert:hover {\n",
       "      background-color: #434B5C;\n",
       "      box-shadow: 0px 1px 3px 1px rgba(0, 0, 0, 0.15);\n",
       "      filter: drop-shadow(0px 1px 2px rgba(0, 0, 0, 0.3));\n",
       "      fill: #FFFFFF;\n",
       "    }\n",
       "  </style>\n",
       "\n",
       "    <script>\n",
       "      const buttonEl =\n",
       "        document.querySelector('#df-6b297ff9-c209-4d05-8f29-d49a8a4fb328 button.colab-df-convert');\n",
       "      buttonEl.style.display =\n",
       "        google.colab.kernel.accessAllowed ? 'block' : 'none';\n",
       "\n",
       "      async function convertToInteractive(key) {\n",
       "        const element = document.querySelector('#df-6b297ff9-c209-4d05-8f29-d49a8a4fb328');\n",
       "        const dataTable =\n",
       "          await google.colab.kernel.invokeFunction('convertToInteractive',\n",
       "                                                    [key], {});\n",
       "        if (!dataTable) return;\n",
       "\n",
       "        const docLinkHtml = 'Like what you see? Visit the ' +\n",
       "          '<a target=\"_blank\" href=https://colab.research.google.com/notebooks/data_table.ipynb>data table notebook</a>'\n",
       "          + ' to learn more about interactive tables.';\n",
       "        element.innerHTML = '';\n",
       "        dataTable['output_type'] = 'display_data';\n",
       "        await google.colab.output.renderOutput(dataTable, element);\n",
       "        const docLink = document.createElement('div');\n",
       "        docLink.innerHTML = docLinkHtml;\n",
       "        element.appendChild(docLink);\n",
       "      }\n",
       "    </script>\n",
       "  </div>\n",
       "\n",
       "\n",
       "<div id=\"df-01825eac-f42d-4e9e-9bdc-dff40cf96deb\">\n",
       "  <button class=\"colab-df-quickchart\" onclick=\"quickchart('df-01825eac-f42d-4e9e-9bdc-dff40cf96deb')\"\n",
       "            title=\"Suggest charts\"\n",
       "            style=\"display:none;\">\n",
       "\n",
       "<svg xmlns=\"http://www.w3.org/2000/svg\" height=\"24px\"viewBox=\"0 0 24 24\"\n",
       "     width=\"24px\">\n",
       "    <g>\n",
       "        <path d=\"M19 3H5c-1.1 0-2 .9-2 2v14c0 1.1.9 2 2 2h14c1.1 0 2-.9 2-2V5c0-1.1-.9-2-2-2zM9 17H7v-7h2v7zm4 0h-2V7h2v10zm4 0h-2v-4h2v4z\"/>\n",
       "    </g>\n",
       "</svg>\n",
       "  </button>\n",
       "\n",
       "<style>\n",
       "  .colab-df-quickchart {\n",
       "      --bg-color: #E8F0FE;\n",
       "      --fill-color: #1967D2;\n",
       "      --hover-bg-color: #E2EBFA;\n",
       "      --hover-fill-color: #174EA6;\n",
       "      --disabled-fill-color: #AAA;\n",
       "      --disabled-bg-color: #DDD;\n",
       "  }\n",
       "\n",
       "  [theme=dark] .colab-df-quickchart {\n",
       "      --bg-color: #3B4455;\n",
       "      --fill-color: #D2E3FC;\n",
       "      --hover-bg-color: #434B5C;\n",
       "      --hover-fill-color: #FFFFFF;\n",
       "      --disabled-bg-color: #3B4455;\n",
       "      --disabled-fill-color: #666;\n",
       "  }\n",
       "\n",
       "  .colab-df-quickchart {\n",
       "    background-color: var(--bg-color);\n",
       "    border: none;\n",
       "    border-radius: 50%;\n",
       "    cursor: pointer;\n",
       "    display: none;\n",
       "    fill: var(--fill-color);\n",
       "    height: 32px;\n",
       "    padding: 0;\n",
       "    width: 32px;\n",
       "  }\n",
       "\n",
       "  .colab-df-quickchart:hover {\n",
       "    background-color: var(--hover-bg-color);\n",
       "    box-shadow: 0 1px 2px rgba(60, 64, 67, 0.3), 0 1px 3px 1px rgba(60, 64, 67, 0.15);\n",
       "    fill: var(--button-hover-fill-color);\n",
       "  }\n",
       "\n",
       "  .colab-df-quickchart-complete:disabled,\n",
       "  .colab-df-quickchart-complete:disabled:hover {\n",
       "    background-color: var(--disabled-bg-color);\n",
       "    fill: var(--disabled-fill-color);\n",
       "    box-shadow: none;\n",
       "  }\n",
       "\n",
       "  .colab-df-spinner {\n",
       "    border: 2px solid var(--fill-color);\n",
       "    border-color: transparent;\n",
       "    border-bottom-color: var(--fill-color);\n",
       "    animation:\n",
       "      spin 1s steps(1) infinite;\n",
       "  }\n",
       "\n",
       "  @keyframes spin {\n",
       "    0% {\n",
       "      border-color: transparent;\n",
       "      border-bottom-color: var(--fill-color);\n",
       "      border-left-color: var(--fill-color);\n",
       "    }\n",
       "    20% {\n",
       "      border-color: transparent;\n",
       "      border-left-color: var(--fill-color);\n",
       "      border-top-color: var(--fill-color);\n",
       "    }\n",
       "    30% {\n",
       "      border-color: transparent;\n",
       "      border-left-color: var(--fill-color);\n",
       "      border-top-color: var(--fill-color);\n",
       "      border-right-color: var(--fill-color);\n",
       "    }\n",
       "    40% {\n",
       "      border-color: transparent;\n",
       "      border-right-color: var(--fill-color);\n",
       "      border-top-color: var(--fill-color);\n",
       "    }\n",
       "    60% {\n",
       "      border-color: transparent;\n",
       "      border-right-color: var(--fill-color);\n",
       "    }\n",
       "    80% {\n",
       "      border-color: transparent;\n",
       "      border-right-color: var(--fill-color);\n",
       "      border-bottom-color: var(--fill-color);\n",
       "    }\n",
       "    90% {\n",
       "      border-color: transparent;\n",
       "      border-bottom-color: var(--fill-color);\n",
       "    }\n",
       "  }\n",
       "</style>\n",
       "\n",
       "  <script>\n",
       "    async function quickchart(key) {\n",
       "      const quickchartButtonEl =\n",
       "        document.querySelector('#' + key + ' button');\n",
       "      quickchartButtonEl.disabled = true;  // To prevent multiple clicks.\n",
       "      quickchartButtonEl.classList.add('colab-df-spinner');\n",
       "      try {\n",
       "        const charts = await google.colab.kernel.invokeFunction(\n",
       "            'suggestCharts', [key], {});\n",
       "      } catch (error) {\n",
       "        console.error('Error during call to suggestCharts:', error);\n",
       "      }\n",
       "      quickchartButtonEl.classList.remove('colab-df-spinner');\n",
       "      quickchartButtonEl.classList.add('colab-df-quickchart-complete');\n",
       "    }\n",
       "    (() => {\n",
       "      let quickchartButtonEl =\n",
       "        document.querySelector('#df-01825eac-f42d-4e9e-9bdc-dff40cf96deb button');\n",
       "      quickchartButtonEl.style.display =\n",
       "        google.colab.kernel.accessAllowed ? 'block' : 'none';\n",
       "    })();\n",
       "  </script>\n",
       "</div>\n",
       "    </div>\n",
       "  </div>\n"
      ]
     },
     "metadata": {},
     "execution_count": 28
    }
   ]
  },
  {
   "cell_type": "markdown",
   "source": [
    "Анализ для большей части датасета был выполнен еще в первом домашнем задании, посмотрим на наличие пропусков в новых данных:"
   ],
   "metadata": {
    "id": "EYAUX9nwQPZm"
   }
  },
  {
   "cell_type": "code",
   "source": [
    "data.isnull().sum()"
   ],
   "metadata": {
    "colab": {
     "base_uri": "https://localhost:8080/"
    },
    "id": "6YJ3McZTQADe",
    "outputId": "f91c6e7b-1fc1-4def-cf4b-e20f33194db5"
   },
   "execution_count": 21,
   "outputs": [
    {
     "output_type": "execute_result",
     "data": {
      "text/plain": [
       "date_time         0\n",
       "zone_id           0\n",
       "banner_id         0\n",
       "oaid_hash         0\n",
       "os_id             0\n",
       "country_id        0\n",
       "banner_id0        0\n",
       "g0               69\n",
       "coeff_sum0       69\n",
       "banner_id1        0\n",
       "g1            19744\n",
       "coeff_sum1    19744\n",
       "clicks            0\n",
       "dtype: int64"
      ]
     },
     "metadata": {},
     "execution_count": 21
    }
   ]
  },
  {
   "cell_type": "markdown",
   "source": [
    "Избавимся от таких наблюдений в тестовой части (так как они нужны для подсчета `ips`), в трейне нам такие наблюдения совершенно не помешают"
   ],
   "metadata": {
    "id": "fmZpyk0LQfOk"
   }
  },
  {
   "cell_type": "markdown",
   "source": [
    "**Добавим интеракции**: выбор обусловлен результатами, полученными в первом домашнем задании."
   ],
   "metadata": {
    "id": "67q138szQnRp"
   }
  },
  {
   "cell_type": "code",
   "source": [
    "interactions = [\n",
    "    [\"banner_id\", \"country_id\"],\n",
    "    [\"banner_id\", \"os_id\"],\n",
    "    [\"banner_id\", \"zone_id\"],\n",
    "    [\"banner_id\", \"hour\"],\n",
    "    [\"banner_id\", \"weekday\"],\n",
    "]"
   ],
   "metadata": {
    "id": "KfXvEERxazpc"
   },
   "execution_count": 22,
   "outputs": []
  },
  {
   "cell_type": "markdown",
   "source": [
    "**Информация по подготовке датасета:**\n",
    "\n",
    "1.   Использована фича `oaid_hash`, сгруппированы редкие категории\n",
    "2.   Было принято решение не группировать редкие категории для баннеров, так как непонятно что будет при подсчете `ips`\n",
    "3. Редкие категории были сгруппированы только для фичи `zone_id`\n",
    "\n"
   ],
   "metadata": {
    "id": "e1s4Uf6FQ1MX"
   }
  },
  {
   "cell_type": "code",
   "source": [
    "(X_train, X_test, X_test1), (y_train, y_test, y_test), columns_for_ips = create_dataset(\n",
    "    data, interactions\n",
    ")"
   ],
   "metadata": {
    "colab": {
     "base_uri": "https://localhost:8080/"
    },
    "id": "RFOACihda0O6",
    "outputId": "d3b0b22a-2a7c-438b-9739-6bd8724337db"
   },
   "execution_count": 29,
   "outputs": [
    {
     "output_type": "stream",
     "name": "stdout",
     "text": [
      "Dataset preparation...\n",
      "\n",
      "Train size: 13692493\n",
      "Test_size: 1885670\n",
      "Features number: 4802697\n",
      "\n",
      "Dataset is ready!\n"
     ]
    }
   ]
  },
  {
   "cell_type": "markdown",
   "source": [
    "Обучаем линейную модель, как в первом домашнем задании с лучшими параметрами"
   ],
   "metadata": {
    "id": "5IYiZDzkRrar"
   }
  },
  {
   "cell_type": "code",
   "source": [
    "model = LogisticRegression(solver=\"liblinear\", penalty=\"l2\", C=0.1).fit(\n",
    "    X_train, y_train\n",
    ")"
   ],
   "metadata": {
    "id": "U--H8fZPbM3l"
   },
   "execution_count": 30,
   "outputs": []
  },
  {
   "cell_type": "code",
   "source": [
    "with open(\"model.pkl\", \"wb\") as f:\n",
    "    pickle.dump(model, f)"
   ],
   "metadata": {
    "id": "ZTCwiv8JcJDd"
   },
   "execution_count": 31,
   "outputs": []
  },
  {
   "cell_type": "code",
   "source": [
    "y_model = model.predict_proba(X_test)[:, 1]\n",
    "print(\n",
    "    f\"logLoss = {log_loss(y_test, y_model):.4f}, ROC AUC = {roc_auc_score(y_test, y_model):.4f}\"\n",
    ")"
   ],
   "metadata": {
    "colab": {
     "base_uri": "https://localhost:8080/"
    },
    "id": "Sser3CGvcVhZ",
    "outputId": "3a21884f-511d-4ba9-d022-a5241f22a1dd"
   },
   "execution_count": 34,
   "outputs": [
    {
     "output_type": "stream",
     "name": "stdout",
     "text": [
      "logLoss = 0.1316, ROC AUC = 0.8068\n"
     ]
    }
   ]
  },
  {
   "cell_type": "markdown",
   "source": [
    "## CIPS"
   ],
   "metadata": {
    "id": "1qNWZ1U3cng1"
   }
  },
  {
   "cell_type": "markdown",
   "source": [
    "Необходимо получить вероятность того, что одна случайная величина с нормальным распределением имеет значение больше другой, давайте проделаем выкладки.\n",
    "\n",
    "$\\mathbb{P}(X > Y) = \\mathbb{P}(X - Y > 0) = 1 - \\mathbb{P}(X - Y <= 0) = 1 - F_{X-Y}(0)$ \\\n",
    "\n",
    "$X, Y$ - независимые случайные величины \\\n",
    "\n",
    "Пусть $X \\sim N(m_1, d_1)$, $Y \\sim N(m_2, d_2)$. Тогда $X-Y \\sim N(m_1-m_2, \\sqrt {d_1 ^ 2 + d_2^2})$"
   ],
   "metadata": {
    "id": "yECDlNXaU4ms"
   }
  },
  {
   "cell_type": "code",
   "source": [
    "def get_policy_probability(coeffs0, g0, coeffs1, g1):\n",
    "    mean = coeffs0 - coeffs1\n",
    "    std = np.sqrt(g0**2 + g1**2) + 1e-9\n",
    "    return 1 - norm.cdf(0, loc=mean, scale=std)\n",
    "\n",
    "\n",
    "def get_cips(data_test, pi_0, pi_1, lambd=10):\n",
    "    cips = np.mean(data_test * np.minimum(pi_1 / (pi_0 + 1e-9), lambd))\n",
    "    print(f\"CIPS: {cips:.4f}\")"
   ],
   "metadata": {
    "id": "oBiDIEYTcpOd"
   },
   "execution_count": 36,
   "outputs": []
  },
  {
   "cell_type": "code",
   "source": [
    "pi_0 = get_policy_probability(\n",
    "    columns_for_ips[\"coeff_sum0\"],\n",
    "    columns_for_ips[\"g0\"],\n",
    "    columns_for_ips[\"coeff_sum1\"],\n",
    "    columns_for_ips[\"g1\"],\n",
    ")\n",
    "\n",
    "y_pred0 = model.predict_proba(X_test)\n",
    "y_pred1 = model.predict_proba(X_test1)\n",
    "coeff_sum0_new = logit(y_pred0[:, 1])\n",
    "coeff_sum1_new = logit(y_pred1[:, 1])\n",
    "\n",
    "pi_1 = get_policy_probability(\n",
    "    coeff_sum0_new, columns_for_ips[\"g0\"], coeff_sum1_new, columns_for_ips[\"g1\"]\n",
    ")"
   ],
   "metadata": {
    "id": "eDOvFOPEpJ_z"
   },
   "execution_count": 37,
   "outputs": []
  },
  {
   "cell_type": "code",
   "source": [
    "get_cips(y_test, pi_0, pi_1)"
   ],
   "metadata": {
    "colab": {
     "base_uri": "https://localhost:8080/"
    },
    "id": "3gTNnsl43dih",
    "outputId": "c9453ad0-8752-4b5f-c29f-074b50db55f7"
   },
   "execution_count": 43,
   "outputs": [
    {
     "output_type": "stream",
     "name": "stdout",
     "text": [
      "CIPS: 0.0652\n"
     ]
    }
   ]
  }
 ]
}